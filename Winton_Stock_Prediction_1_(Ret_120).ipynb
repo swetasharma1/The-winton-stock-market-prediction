{
  "nbformat": 4,
  "nbformat_minor": 0,
  "metadata": {
    "colab": {
      "name": "Winton_Stock_Prediction_1 (Ret_180).ipynb",
      "version": "0.3.2",
      "provenance": [],
      "collapsed_sections": []
    },
    "language_info": {
      "codemirror_mode": {
        "name": "ipython",
        "version": 3
      },
      "file_extension": ".py",
      "mimetype": "text/x-python",
      "name": "python",
      "nbconvert_exporter": "python",
      "pygments_lexer": "ipython3",
      "version": "3.7.3"
    },
    "kernelspec": {
      "display_name": "Python 3",
      "language": "python",
      "name": "python3"
    },
    "accelerator": "TPU"
  },
  "cells": [
    {
      "cell_type": "code",
      "metadata": {
        "colab_type": "code",
        "id": "Dr62BfHk1IS2",
        "outputId": "beb583a7-8c3a-4e5b-a4b3-7477a150a69b",
        "colab": {
          "base_uri": "https://localhost:8080/",
          "height": 34
        }
      },
      "source": [
        "import numpy\n",
        "import pandas as pd\n",
        "from keras.models import Sequential\n",
        "from keras.layers import Dense\n",
        "from keras.wrappers.scikit_learn import KerasRegressor\n",
        "from sklearn.model_selection import cross_val_score\n",
        "from sklearn.model_selection import KFold\n",
        "from sklearn.preprocessing import StandardScaler\n",
        "from sklearn.pipeline import Pipeline\n",
        "from sklearn.preprocessing import MinMaxScaler\n",
        "import matplotlib.pyplot as plt"
      ],
      "execution_count": 0,
      "outputs": [
        {
          "output_type": "stream",
          "text": [
            "Using TensorFlow backend.\n"
          ],
          "name": "stderr"
        }
      ]
    },
    {
      "cell_type": "code",
      "metadata": {
        "colab_type": "code",
        "id": "6RM6RrXa1K1q",
        "outputId": "6f56db9a-3641-465d-d4bb-fe8ac3d2afdd",
        "colab": {
          "base_uri": "https://localhost:8080/",
          "height": 328
        }
      },
      "source": [
        "dataset = pd.read_csv('C:/Users/Krishna Veer Singh/Downloads/Winton_Stock_Prediction/train.csv')\n",
        "dataset.fillna(dataset.mean(axis=0), inplace=True)\n",
        "dataset.head()"
      ],
      "execution_count": 0,
      "outputs": [
        {
          "output_type": "execute_result",
          "data": {
            "text/html": [
              "<div>\n",
              "<style scoped>\n",
              "    .dataframe tbody tr th:only-of-type {\n",
              "        vertical-align: middle;\n",
              "    }\n",
              "\n",
              "    .dataframe tbody tr th {\n",
              "        vertical-align: top;\n",
              "    }\n",
              "\n",
              "    .dataframe thead th {\n",
              "        text-align: right;\n",
              "    }\n",
              "</style>\n",
              "<table border=\"1\" class=\"dataframe\">\n",
              "  <thead>\n",
              "    <tr style=\"text-align: right;\">\n",
              "      <th></th>\n",
              "      <th>Feature_1</th>\n",
              "      <th>Feature_2</th>\n",
              "      <th>Feature_3</th>\n",
              "      <th>Feature_4</th>\n",
              "      <th>Feature_5</th>\n",
              "      <th>Feature_6</th>\n",
              "      <th>Feature_7</th>\n",
              "      <th>Feature_8</th>\n",
              "      <th>Feature_9</th>\n",
              "      <th>Feature_10</th>\n",
              "      <th>...</th>\n",
              "      <th>Ret_175</th>\n",
              "      <th>Ret_176</th>\n",
              "      <th>Ret_177</th>\n",
              "      <th>Ret_178</th>\n",
              "      <th>Ret_179</th>\n",
              "      <th>Ret_180</th>\n",
              "      <th>Ret_PlusOne</th>\n",
              "      <th>Ret_PlusTwo</th>\n",
              "      <th>Weight_Intraday</th>\n",
              "      <th>Weight_Daily</th>\n",
              "    </tr>\n",
              "  </thead>\n",
              "  <tbody>\n",
              "    <tr>\n",
              "      <th>0</th>\n",
              "      <td>3.59025</td>\n",
              "      <td>-0.117558</td>\n",
              "      <td>0.558392</td>\n",
              "      <td>0.405572</td>\n",
              "      <td>8</td>\n",
              "      <td>0.430972</td>\n",
              "      <td>75751</td>\n",
              "      <td>0.2254</td>\n",
              "      <td>11.0</td>\n",
              "      <td>4.744703</td>\n",
              "      <td>...</td>\n",
              "      <td>-0.002688</td>\n",
              "      <td>0.002246</td>\n",
              "      <td>-0.000838</td>\n",
              "      <td>-6.953220e-04</td>\n",
              "      <td>0.000003</td>\n",
              "      <td>-0.001974</td>\n",
              "      <td>-0.019512</td>\n",
              "      <td>0.028846</td>\n",
              "      <td>1251507.966</td>\n",
              "      <td>1564384.957</td>\n",
              "    </tr>\n",
              "    <tr>\n",
              "      <th>1</th>\n",
              "      <td>3.59025</td>\n",
              "      <td>-0.117558</td>\n",
              "      <td>0.558392</td>\n",
              "      <td>0.405572</td>\n",
              "      <td>3</td>\n",
              "      <td>0.388896</td>\n",
              "      <td>17369</td>\n",
              "      <td>0.0166</td>\n",
              "      <td>13.0</td>\n",
              "      <td>4.744703</td>\n",
              "      <td>...</td>\n",
              "      <td>-0.000129</td>\n",
              "      <td>0.000123</td>\n",
              "      <td>0.000248</td>\n",
              "      <td>3.320000e-07</td>\n",
              "      <td>0.000003</td>\n",
              "      <td>0.000027</td>\n",
              "      <td>-0.002939</td>\n",
              "      <td>-0.010253</td>\n",
              "      <td>1733950.349</td>\n",
              "      <td>2167437.936</td>\n",
              "    </tr>\n",
              "    <tr>\n",
              "      <th>2</th>\n",
              "      <td>3.59025</td>\n",
              "      <td>-0.696727</td>\n",
              "      <td>0.739591</td>\n",
              "      <td>-0.167928</td>\n",
              "      <td>9</td>\n",
              "      <td>0.471947</td>\n",
              "      <td>8277</td>\n",
              "      <td>0.3650</td>\n",
              "      <td>9.0</td>\n",
              "      <td>5.000000</td>\n",
              "      <td>...</td>\n",
              "      <td>-0.000524</td>\n",
              "      <td>-0.000394</td>\n",
              "      <td>0.000116</td>\n",
              "      <td>5.322560e-04</td>\n",
              "      <td>0.000274</td>\n",
              "      <td>0.000784</td>\n",
              "      <td>-0.024791</td>\n",
              "      <td>0.015711</td>\n",
              "      <td>1529197.383</td>\n",
              "      <td>1911496.729</td>\n",
              "    </tr>\n",
              "    <tr>\n",
              "      <th>3</th>\n",
              "      <td>3.59025</td>\n",
              "      <td>-0.694350</td>\n",
              "      <td>1.568248</td>\n",
              "      <td>0.479073</td>\n",
              "      <td>5</td>\n",
              "      <td>0.120653</td>\n",
              "      <td>22508</td>\n",
              "      <td>0.2654</td>\n",
              "      <td>13.0</td>\n",
              "      <td>5.000000</td>\n",
              "      <td>...</td>\n",
              "      <td>0.000346</td>\n",
              "      <td>-0.000090</td>\n",
              "      <td>0.000288</td>\n",
              "      <td>-1.281100e-04</td>\n",
              "      <td>0.000074</td>\n",
              "      <td>0.000341</td>\n",
              "      <td>-0.005680</td>\n",
              "      <td>-0.002190</td>\n",
              "      <td>1711569.424</td>\n",
              "      <td>2139461.780</td>\n",
              "    </tr>\n",
              "    <tr>\n",
              "      <th>4</th>\n",
              "      <td>6.00000</td>\n",
              "      <td>-1.736489</td>\n",
              "      <td>2.765531</td>\n",
              "      <td>1.245280</td>\n",
              "      <td>7</td>\n",
              "      <td>4.866985</td>\n",
              "      <td>22423</td>\n",
              "      <td>0.2138</td>\n",
              "      <td>13.0</td>\n",
              "      <td>4.000000</td>\n",
              "      <td>...</td>\n",
              "      <td>-0.001235</td>\n",
              "      <td>0.000027</td>\n",
              "      <td>0.002449</td>\n",
              "      <td>8.620000e-06</td>\n",
              "      <td>0.001209</td>\n",
              "      <td>-0.000004</td>\n",
              "      <td>0.036104</td>\n",
              "      <td>-0.026552</td>\n",
              "      <td>1267270.265</td>\n",
              "      <td>1584087.831</td>\n",
              "    </tr>\n",
              "  </tbody>\n",
              "</table>\n",
              "<p>5 rows × 210 columns</p>\n",
              "</div>"
            ],
            "text/plain": [
              "   Feature_1  Feature_2  Feature_3  Feature_4  Feature_5  Feature_6  \\\n",
              "0    3.59025  -0.117558   0.558392   0.405572          8   0.430972   \n",
              "1    3.59025  -0.117558   0.558392   0.405572          3   0.388896   \n",
              "2    3.59025  -0.696727   0.739591  -0.167928          9   0.471947   \n",
              "3    3.59025  -0.694350   1.568248   0.479073          5   0.120653   \n",
              "4    6.00000  -1.736489   2.765531   1.245280          7   4.866985   \n",
              "\n",
              "   Feature_7  Feature_8  Feature_9  Feature_10  ...   Ret_175   Ret_176  \\\n",
              "0      75751     0.2254       11.0    4.744703  ... -0.002688  0.002246   \n",
              "1      17369     0.0166       13.0    4.744703  ... -0.000129  0.000123   \n",
              "2       8277     0.3650        9.0    5.000000  ... -0.000524 -0.000394   \n",
              "3      22508     0.2654       13.0    5.000000  ...  0.000346 -0.000090   \n",
              "4      22423     0.2138       13.0    4.000000  ... -0.001235  0.000027   \n",
              "\n",
              "    Ret_177       Ret_178   Ret_179   Ret_180  Ret_PlusOne  Ret_PlusTwo  \\\n",
              "0 -0.000838 -6.953220e-04  0.000003 -0.001974    -0.019512     0.028846   \n",
              "1  0.000248  3.320000e-07  0.000003  0.000027    -0.002939    -0.010253   \n",
              "2  0.000116  5.322560e-04  0.000274  0.000784    -0.024791     0.015711   \n",
              "3  0.000288 -1.281100e-04  0.000074  0.000341    -0.005680    -0.002190   \n",
              "4  0.002449  8.620000e-06  0.001209 -0.000004     0.036104    -0.026552   \n",
              "\n",
              "   Weight_Intraday  Weight_Daily  \n",
              "0      1251507.966   1564384.957  \n",
              "1      1733950.349   2167437.936  \n",
              "2      1529197.383   1911496.729  \n",
              "3      1711569.424   2139461.780  \n",
              "4      1267270.265   1584087.831  \n",
              "\n",
              "[5 rows x 210 columns]"
            ]
          },
          "metadata": {
            "tags": []
          },
          "execution_count": 2
        }
      ]
    },
    {
      "cell_type": "code",
      "metadata": {
        "colab_type": "code",
        "id": "qcEwrmJF1YlE",
        "colab": {}
      },
      "source": [
        "X = dataset.iloc[:,0:27]\n",
        "Y = dataset.iloc[:,205]"
      ],
      "execution_count": 0,
      "outputs": []
    },
    {
      "cell_type": "code",
      "metadata": {
        "colab_type": "code",
        "id": "XSN2-o081ank",
        "outputId": "140b238d-58ce-4ca3-f1a1-25747ed1dfa4",
        "colab": {
          "base_uri": "https://localhost:8080/",
          "height": 215
        }
      },
      "source": [
        "X.head()"
      ],
      "execution_count": 0,
      "outputs": [
        {
          "output_type": "execute_result",
          "data": {
            "text/html": [
              "<div>\n",
              "<style scoped>\n",
              "    .dataframe tbody tr th:only-of-type {\n",
              "        vertical-align: middle;\n",
              "    }\n",
              "\n",
              "    .dataframe tbody tr th {\n",
              "        vertical-align: top;\n",
              "    }\n",
              "\n",
              "    .dataframe thead th {\n",
              "        text-align: right;\n",
              "    }\n",
              "</style>\n",
              "<table border=\"1\" class=\"dataframe\">\n",
              "  <thead>\n",
              "    <tr style=\"text-align: right;\">\n",
              "      <th></th>\n",
              "      <th>Feature_1</th>\n",
              "      <th>Feature_2</th>\n",
              "      <th>Feature_3</th>\n",
              "      <th>Feature_4</th>\n",
              "      <th>Feature_5</th>\n",
              "      <th>Feature_6</th>\n",
              "      <th>Feature_7</th>\n",
              "      <th>Feature_8</th>\n",
              "      <th>Feature_9</th>\n",
              "      <th>Feature_10</th>\n",
              "      <th>...</th>\n",
              "      <th>Feature_18</th>\n",
              "      <th>Feature_19</th>\n",
              "      <th>Feature_20</th>\n",
              "      <th>Feature_21</th>\n",
              "      <th>Feature_22</th>\n",
              "      <th>Feature_23</th>\n",
              "      <th>Feature_24</th>\n",
              "      <th>Feature_25</th>\n",
              "      <th>Ret_MinusTwo</th>\n",
              "      <th>Ret_MinusOne</th>\n",
              "    </tr>\n",
              "  </thead>\n",
              "  <tbody>\n",
              "    <tr>\n",
              "      <th>0</th>\n",
              "      <td>3.59025</td>\n",
              "      <td>-0.117558</td>\n",
              "      <td>0.558392</td>\n",
              "      <td>0.405572</td>\n",
              "      <td>8</td>\n",
              "      <td>0.430972</td>\n",
              "      <td>75751</td>\n",
              "      <td>0.2254</td>\n",
              "      <td>11.0</td>\n",
              "      <td>4.744703</td>\n",
              "      <td>...</td>\n",
              "      <td>0.803059</td>\n",
              "      <td>-0.925463</td>\n",
              "      <td>2.0</td>\n",
              "      <td>0.605593</td>\n",
              "      <td>-0.489492</td>\n",
              "      <td>0.799833</td>\n",
              "      <td>-1.209290</td>\n",
              "      <td>-0.329675</td>\n",
              "      <td>0.055275</td>\n",
              "      <td>-0.010770</td>\n",
              "    </tr>\n",
              "    <tr>\n",
              "      <th>1</th>\n",
              "      <td>3.59025</td>\n",
              "      <td>-0.117558</td>\n",
              "      <td>0.558392</td>\n",
              "      <td>0.405572</td>\n",
              "      <td>3</td>\n",
              "      <td>0.388896</td>\n",
              "      <td>17369</td>\n",
              "      <td>0.0166</td>\n",
              "      <td>13.0</td>\n",
              "      <td>4.744703</td>\n",
              "      <td>...</td>\n",
              "      <td>0.917958</td>\n",
              "      <td>-0.897067</td>\n",
              "      <td>9.0</td>\n",
              "      <td>0.886205</td>\n",
              "      <td>-0.151805</td>\n",
              "      <td>1.239856</td>\n",
              "      <td>0.953424</td>\n",
              "      <td>-0.709462</td>\n",
              "      <td>0.009748</td>\n",
              "      <td>0.002987</td>\n",
              "    </tr>\n",
              "    <tr>\n",
              "      <th>2</th>\n",
              "      <td>3.59025</td>\n",
              "      <td>-0.696727</td>\n",
              "      <td>0.739591</td>\n",
              "      <td>-0.167928</td>\n",
              "      <td>9</td>\n",
              "      <td>0.471947</td>\n",
              "      <td>8277</td>\n",
              "      <td>0.3650</td>\n",
              "      <td>9.0</td>\n",
              "      <td>5.000000</td>\n",
              "      <td>...</td>\n",
              "      <td>1.799813</td>\n",
              "      <td>-1.603488</td>\n",
              "      <td>3.0</td>\n",
              "      <td>0.605593</td>\n",
              "      <td>0.389061</td>\n",
              "      <td>1.728096</td>\n",
              "      <td>-1.798090</td>\n",
              "      <td>-1.019370</td>\n",
              "      <td>0.003077</td>\n",
              "      <td>0.006181</td>\n",
              "    </tr>\n",
              "    <tr>\n",
              "      <th>3</th>\n",
              "      <td>3.59025</td>\n",
              "      <td>-0.694350</td>\n",
              "      <td>1.568248</td>\n",
              "      <td>0.479073</td>\n",
              "      <td>5</td>\n",
              "      <td>0.120653</td>\n",
              "      <td>22508</td>\n",
              "      <td>0.2654</td>\n",
              "      <td>13.0</td>\n",
              "      <td>5.000000</td>\n",
              "      <td>...</td>\n",
              "      <td>1.565036</td>\n",
              "      <td>-1.205438</td>\n",
              "      <td>7.0</td>\n",
              "      <td>1.148738</td>\n",
              "      <td>-2.440799</td>\n",
              "      <td>1.551425</td>\n",
              "      <td>-1.788725</td>\n",
              "      <td>-0.329675</td>\n",
              "      <td>0.000984</td>\n",
              "      <td>0.014106</td>\n",
              "    </tr>\n",
              "    <tr>\n",
              "      <th>4</th>\n",
              "      <td>6.00000</td>\n",
              "      <td>-1.736489</td>\n",
              "      <td>2.765531</td>\n",
              "      <td>1.245280</td>\n",
              "      <td>7</td>\n",
              "      <td>4.866985</td>\n",
              "      <td>22423</td>\n",
              "      <td>0.2138</td>\n",
              "      <td>13.0</td>\n",
              "      <td>4.000000</td>\n",
              "      <td>...</td>\n",
              "      <td>-3.208872</td>\n",
              "      <td>-1.102189</td>\n",
              "      <td>7.0</td>\n",
              "      <td>3.381040</td>\n",
              "      <td>1.732708</td>\n",
              "      <td>1.965189</td>\n",
              "      <td>-5.993092</td>\n",
              "      <td>3.219820</td>\n",
              "      <td>-0.018224</td>\n",
              "      <td>0.011065</td>\n",
              "    </tr>\n",
              "  </tbody>\n",
              "</table>\n",
              "<p>5 rows × 27 columns</p>\n",
              "</div>"
            ],
            "text/plain": [
              "   Feature_1  Feature_2  Feature_3  Feature_4  Feature_5  Feature_6  \\\n",
              "0    3.59025  -0.117558   0.558392   0.405572          8   0.430972   \n",
              "1    3.59025  -0.117558   0.558392   0.405572          3   0.388896   \n",
              "2    3.59025  -0.696727   0.739591  -0.167928          9   0.471947   \n",
              "3    3.59025  -0.694350   1.568248   0.479073          5   0.120653   \n",
              "4    6.00000  -1.736489   2.765531   1.245280          7   4.866985   \n",
              "\n",
              "   Feature_7  Feature_8  Feature_9  Feature_10  ...  Feature_18  Feature_19  \\\n",
              "0      75751     0.2254       11.0    4.744703  ...    0.803059   -0.925463   \n",
              "1      17369     0.0166       13.0    4.744703  ...    0.917958   -0.897067   \n",
              "2       8277     0.3650        9.0    5.000000  ...    1.799813   -1.603488   \n",
              "3      22508     0.2654       13.0    5.000000  ...    1.565036   -1.205438   \n",
              "4      22423     0.2138       13.0    4.000000  ...   -3.208872   -1.102189   \n",
              "\n",
              "   Feature_20  Feature_21  Feature_22  Feature_23  Feature_24  Feature_25  \\\n",
              "0         2.0    0.605593   -0.489492    0.799833   -1.209290   -0.329675   \n",
              "1         9.0    0.886205   -0.151805    1.239856    0.953424   -0.709462   \n",
              "2         3.0    0.605593    0.389061    1.728096   -1.798090   -1.019370   \n",
              "3         7.0    1.148738   -2.440799    1.551425   -1.788725   -0.329675   \n",
              "4         7.0    3.381040    1.732708    1.965189   -5.993092    3.219820   \n",
              "\n",
              "   Ret_MinusTwo  Ret_MinusOne  \n",
              "0      0.055275     -0.010770  \n",
              "1      0.009748      0.002987  \n",
              "2      0.003077      0.006181  \n",
              "3      0.000984      0.014106  \n",
              "4     -0.018224      0.011065  \n",
              "\n",
              "[5 rows x 27 columns]"
            ]
          },
          "metadata": {
            "tags": []
          },
          "execution_count": 4
        }
      ]
    },
    {
      "cell_type": "code",
      "metadata": {
        "colab_type": "code",
        "id": "jHzVQbdk1j2p",
        "outputId": "01d48661-97da-4957-c75e-0454310b1a03",
        "colab": {
          "base_uri": "https://localhost:8080/",
          "height": 34
        }
      },
      "source": [
        "X.shape"
      ],
      "execution_count": 0,
      "outputs": [
        {
          "output_type": "execute_result",
          "data": {
            "text/plain": [
              "(40000, 27)"
            ]
          },
          "metadata": {
            "tags": []
          },
          "execution_count": 5
        }
      ]
    },
    {
      "cell_type": "code",
      "metadata": {
        "colab_type": "code",
        "id": "RXczoPMd1lLX",
        "outputId": "c02d290a-14eb-4aa7-cb6e-0e49d4dfa663",
        "colab": {
          "base_uri": "https://localhost:8080/",
          "height": 118
        }
      },
      "source": [
        "Y.head()"
      ],
      "execution_count": 0,
      "outputs": [
        {
          "output_type": "execute_result",
          "data": {
            "text/plain": [
              "0   -0.000723\n",
              "1   -0.000228\n",
              "2   -0.000144\n",
              "3   -0.000294\n",
              "4    0.000004\n",
              "Name: Ret_60, dtype: float64"
            ]
          },
          "metadata": {
            "tags": []
          },
          "execution_count": 6
        }
      ]
    },
    {
      "cell_type": "code",
      "metadata": {
        "colab_type": "code",
        "id": "fYkPkE6f1mj4",
        "outputId": "4ffb3eef-2d16-42dc-ad7b-1c2d76681939",
        "colab": {
          "base_uri": "https://localhost:8080/",
          "height": 34
        }
      },
      "source": [
        "Y.shape"
      ],
      "execution_count": 0,
      "outputs": [
        {
          "output_type": "execute_result",
          "data": {
            "text/plain": [
              "(40000,)"
            ]
          },
          "metadata": {
            "tags": []
          },
          "execution_count": 7
        }
      ]
    },
    {
      "cell_type": "code",
      "metadata": {
        "colab_type": "code",
        "id": "VH-J0sB01od7",
        "colab": {},
        "outputId": "2ef3143a-9ce6-4311-9abf-31dbff39bd5a"
      },
      "source": [
        "scaler_x = MinMaxScaler()\n",
        "scaler_x.fit(X)\n",
        "xscale=scaler_x.transform(X)"
      ],
      "execution_count": 0,
      "outputs": [
        {
          "output_type": "stream",
          "text": [
            "D:\\E\\anaconda\\lib\\site-packages\\sklearn\\preprocessing\\data.py:334: DataConversionWarning: Data with input dtype int64, float64 were all converted to float64 by MinMaxScaler.\n",
            "  return self.partial_fit(X, y)\n"
          ],
          "name": "stderr"
        }
      ]
    },
    {
      "cell_type": "markdown",
      "metadata": {
        "id": "8cfGqUoLrlny",
        "colab_type": "text"
      },
      "source": [
        "# **Sequential** **Model**"
      ]
    },
    {
      "cell_type": "code",
      "metadata": {
        "colab_type": "code",
        "id": "VBkMQw731vMc",
        "outputId": "ac25229d-9d7e-4cdf-a6d7-2b277bef4a36",
        "colab": {
          "base_uri": "https://localhost:8080/",
          "height": 306
        }
      },
      "source": [
        "model = Sequential()\n",
        "model.add(Dense(12, input_dim=27, kernel_initializer='normal'))\n",
        "model.add(Dense(8, activation='relu'))\n",
        "model.add(Dense(1, activation='linear'))\n",
        "model.summary()"
      ],
      "execution_count": 0,
      "outputs": [
        {
          "output_type": "stream",
          "text": [
            "WARNING:tensorflow:From D:\\E\\anaconda\\lib\\site-packages\\tensorflow\\python\\framework\\op_def_library.py:263: colocate_with (from tensorflow.python.framework.ops) is deprecated and will be removed in a future version.\n",
            "Instructions for updating:\n",
            "Colocations handled automatically by placer.\n",
            "_________________________________________________________________\n",
            "Layer (type)                 Output Shape              Param #   \n",
            "=================================================================\n",
            "dense_1 (Dense)              (None, 12)                336       \n",
            "_________________________________________________________________\n",
            "dense_2 (Dense)              (None, 8)                 104       \n",
            "_________________________________________________________________\n",
            "dense_3 (Dense)              (None, 1)                 9         \n",
            "=================================================================\n",
            "Total params: 449\n",
            "Trainable params: 449\n",
            "Non-trainable params: 0\n",
            "_________________________________________________________________\n"
          ],
          "name": "stdout"
        }
      ]
    },
    {
      "cell_type": "code",
      "metadata": {
        "colab_type": "code",
        "id": "HqP0pJVA1yNk",
        "colab": {}
      },
      "source": [
        "model.compile(loss='mse', optimizer='adam', metrics=['mse','mae'])"
      ],
      "execution_count": 0,
      "outputs": []
    },
    {
      "cell_type": "code",
      "metadata": {
        "colab_type": "code",
        "id": "vzL2zgdk11HU",
        "outputId": "7fdae6b9-6dae-4726-f9ae-0664f3c3b3d8",
        "colab": {
          "base_uri": "https://localhost:8080/",
          "height": 1767
        }
      },
      "source": [
        "history = model.fit(xscale, Y,epochs=50, batch_size=10)"
      ],
      "execution_count": 0,
      "outputs": [
        {
          "output_type": "stream",
          "text": [
            "WARNING:tensorflow:From D:\\E\\anaconda\\lib\\site-packages\\tensorflow\\python\\ops\\math_ops.py:3066: to_int32 (from tensorflow.python.ops.math_ops) is deprecated and will be removed in a future version.\n",
            "Instructions for updating:\n",
            "Use tf.cast instead.\n",
            "Epoch 1/50\n",
            "40000/40000 [==============================] - 7s 172us/step - loss: 3.4223e-05 - mean_squared_error: 3.4223e-05 - mean_absolute_error: 0.0016\n",
            "Epoch 2/50\n",
            "40000/40000 [==============================] - 7s 165us/step - loss: 9.6304e-07 - mean_squared_error: 9.6304e-07 - mean_absolute_error: 6.1092e-04\n",
            "Epoch 3/50\n",
            "40000/40000 [==============================] - 7s 165us/step - loss: 9.8093e-07 - mean_squared_error: 9.8093e-07 - mean_absolute_error: 6.2510e-04\n",
            "Epoch 4/50\n",
            "40000/40000 [==============================] - 7s 167us/step - loss: 9.7365e-07 - mean_squared_error: 9.7365e-07 - mean_absolute_error: 6.1924e-04\n",
            "Epoch 5/50\n",
            "40000/40000 [==============================] - 7s 168us/step - loss: 1.0463e-06 - mean_squared_error: 1.0463e-06 - mean_absolute_error: 6.3241e-04\n",
            "Epoch 6/50\n",
            "40000/40000 [==============================] - 7s 176us/step - loss: 9.6260e-07 - mean_squared_error: 9.6260e-07 - mean_absolute_error: 6.1237e-04\n",
            "Epoch 7/50\n",
            "40000/40000 [==============================] - 7s 165us/step - loss: 9.7224e-07 - mean_squared_error: 9.7224e-07 - mean_absolute_error: 6.1991e-04\n",
            "Epoch 8/50\n",
            "40000/40000 [==============================] - 7s 175us/step - loss: 9.7410e-07 - mean_squared_error: 9.7410e-07 - mean_absolute_error: 6.1955e-04\n",
            "Epoch 9/50\n",
            "40000/40000 [==============================] - 7s 167us/step - loss: 9.8312e-07 - mean_squared_error: 9.8312e-07 - mean_absolute_error: 6.2388e-04\n",
            "Epoch 10/50\n",
            "40000/40000 [==============================] - 6s 162us/step - loss: 9.7673e-07 - mean_squared_error: 9.7673e-07 - mean_absolute_error: 6.2238e-04\n",
            "Epoch 11/50\n",
            "40000/40000 [==============================] - 7s 169us/step - loss: 9.7493e-07 - mean_squared_error: 9.7493e-07 - mean_absolute_error: 6.2132e-04\n",
            "Epoch 12/50\n",
            "40000/40000 [==============================] - 7s 171us/step - loss: 9.8330e-07 - mean_squared_error: 9.8330e-07 - mean_absolute_error: 6.2124e-04\n",
            "Epoch 13/50\n",
            "40000/40000 [==============================] - 7s 164us/step - loss: 9.7203e-07 - mean_squared_error: 9.7203e-07 - mean_absolute_error: 6.1503e-04\n",
            "Epoch 14/50\n",
            "40000/40000 [==============================] - 7s 173us/step - loss: 9.7254e-07 - mean_squared_error: 9.7254e-07 - mean_absolute_error: 6.1955e-04\n",
            "Epoch 15/50\n",
            "40000/40000 [==============================] - 7s 163us/step - loss: 9.7295e-07 - mean_squared_error: 9.7295e-07 - mean_absolute_error: 6.1935e-04\n",
            "Epoch 16/50\n",
            "40000/40000 [==============================] - 7s 171us/step - loss: 9.6894e-07 - mean_squared_error: 9.6894e-07 - mean_absolute_error: 6.1623e-04\n",
            "Epoch 17/50\n",
            "40000/40000 [==============================] - 7s 164us/step - loss: 9.7153e-07 - mean_squared_error: 9.7153e-07 - mean_absolute_error: 6.1813e-04\n",
            "Epoch 18/50\n",
            "40000/40000 [==============================] - 6s 159us/step - loss: 9.7038e-07 - mean_squared_error: 9.7038e-07 - mean_absolute_error: 6.1637e-04\n",
            "Epoch 19/50\n",
            "40000/40000 [==============================] - 7s 167us/step - loss: 9.7483e-07 - mean_squared_error: 9.7483e-07 - mean_absolute_error: 6.1700e-04\n",
            "Epoch 20/50\n",
            "40000/40000 [==============================] - 6s 160us/step - loss: 9.7683e-07 - mean_squared_error: 9.7683e-07 - mean_absolute_error: 6.2219e-04\n",
            "Epoch 21/50\n",
            "40000/40000 [==============================] - 7s 167us/step - loss: 9.7986e-07 - mean_squared_error: 9.7986e-07 - mean_absolute_error: 6.2210e-04\n",
            "Epoch 22/50\n",
            "40000/40000 [==============================] - 7s 169us/step - loss: 9.9044e-07 - mean_squared_error: 9.9044e-07 - mean_absolute_error: 6.2985e-04\n",
            "Epoch 23/50\n",
            "40000/40000 [==============================] - 7s 168us/step - loss: 9.7362e-07 - mean_squared_error: 9.7362e-07 - mean_absolute_error: 6.2084e-04\n",
            "Epoch 24/50\n",
            "40000/40000 [==============================] - 7s 169us/step - loss: 9.6450e-07 - mean_squared_error: 9.6450e-07 - mean_absolute_error: 6.1081e-04\n",
            "Epoch 25/50\n",
            "40000/40000 [==============================] - 7s 178us/step - loss: 9.7583e-07 - mean_squared_error: 9.7583e-07 - mean_absolute_error: 6.2045e-04\n",
            "Epoch 26/50\n",
            "40000/40000 [==============================] - 7s 170us/step - loss: 9.6948e-07 - mean_squared_error: 9.6948e-07 - mean_absolute_error: 6.1784e-04\n",
            "Epoch 27/50\n",
            "40000/40000 [==============================] - 6s 161us/step - loss: 9.7017e-07 - mean_squared_error: 9.7017e-07 - mean_absolute_error: 6.1706e-04\n",
            "Epoch 28/50\n",
            "40000/40000 [==============================] - 7s 170us/step - loss: 9.8727e-07 - mean_squared_error: 9.8727e-07 - mean_absolute_error: 6.2695e-04\n",
            "Epoch 29/50\n",
            "40000/40000 [==============================] - 7s 171us/step - loss: 9.9777e-07 - mean_squared_error: 9.9777e-07 - mean_absolute_error: 6.3447e-04\n",
            "Epoch 30/50\n",
            "40000/40000 [==============================] - 7s 163us/step - loss: 9.8325e-07 - mean_squared_error: 9.8325e-07 - mean_absolute_error: 6.2388e-04\n",
            "Epoch 31/50\n",
            "40000/40000 [==============================] - 6s 162us/step - loss: 9.7415e-07 - mean_squared_error: 9.7415e-07 - mean_absolute_error: 6.1995e-04\n",
            "Epoch 32/50\n",
            "40000/40000 [==============================] - 7s 165us/step - loss: 9.6977e-07 - mean_squared_error: 9.6977e-07 - mean_absolute_error: 6.1635e-04\n",
            "Epoch 33/50\n",
            "40000/40000 [==============================] - 6s 152us/step - loss: 9.8684e-07 - mean_squared_error: 9.8684e-07 - mean_absolute_error: 6.2636e-04\n",
            "Epoch 34/50\n",
            "40000/40000 [==============================] - 6s 149us/step - loss: 9.7054e-07 - mean_squared_error: 9.7054e-07 - mean_absolute_error: 6.1768e-04\n",
            "Epoch 35/50\n",
            "40000/40000 [==============================] - 6s 155us/step - loss: 9.8939e-07 - mean_squared_error: 9.8939e-07 - mean_absolute_error: 6.2762e-04\n",
            "Epoch 36/50\n",
            "40000/40000 [==============================] - 7s 168us/step - loss: 9.8330e-07 - mean_squared_error: 9.8330e-07 - mean_absolute_error: 6.2539e-04\n",
            "Epoch 37/50\n",
            "40000/40000 [==============================] - 7s 169us/step - loss: 9.6603e-07 - mean_squared_error: 9.6603e-07 - mean_absolute_error: 6.1345e-04\n",
            "Epoch 38/50\n",
            "40000/40000 [==============================] - 7s 166us/step - loss: 9.8085e-07 - mean_squared_error: 9.8085e-07 - mean_absolute_error: 6.2279e-04\n",
            "Epoch 39/50\n",
            "35240/40000 [=========================>....] - ETA: 0s - loss: 9.9292e-07 - mean_squared_error: 9.9292e-07 - mean_absolute_error: 6.2427e-04"
          ],
          "name": "stdout"
        }
      ]
    },
    {
      "cell_type": "code",
      "metadata": {
        "colab_type": "code",
        "id": "-tHKJACl16YG",
        "outputId": "184adad4-af49-4e64-f468-1ad1f35715ac",
        "colab": {
          "base_uri": "https://localhost:8080/",
          "height": 295
        }
      },
      "source": [
        "plt.plot(history.history['loss'])\n",
        "plt.title('model loss')\n",
        "plt.ylabel('loss')\n",
        "plt.xlabel('epoch')\n",
        "plt.legend(['train'], loc='upper left')\n",
        "plt.show()"
      ],
      "execution_count": 0,
      "outputs": [
        {
          "output_type": "display_data",
          "data": {
            "image/png": "[encoded data removed]",
            "text/plain": [
              "<Figure size 432x288 with 1 Axes>"
            ]
          },
          "metadata": {
            "tags": [],
            "needs_background": "light"
          }
        }
      ]
    },
    {
      "cell_type": "code",
      "metadata": {
        "colab_type": "code",
        "id": "TszEgxy-19uC",
        "colab": {}
      },
      "source": [
        "dataset2 = pd.read_csv('C:/Users/Krishna Veer Singh/Downloads/Winton_Stock_Prediction/test_2.csv')\n",
        "dataset2.fillna(dataset.mean(axis=0), inplace=True)"
      ],
      "execution_count": 0,
      "outputs": []
    },
    {
      "cell_type": "code",
      "metadata": {
        "colab_type": "code",
        "id": "SAzPhjSg2Bme",
        "colab": {},
        "outputId": "96a18499-dafa-466e-8058-ad96dd4d7e31"
      },
      "source": [
        "Xnew = dataset2.iloc[:,0:27] \n",
        "ynew = dataset2.iloc[:,205]\n",
        "scaler_x= MinMaxScaler()\n",
        "scaler_x.fit(Xnew)\n",
        "xscale=scaler_x.transform(Xnew)\n",
        "Ynew = model.predict(xscale)\n",
        "Xnew.shape"
      ],
      "execution_count": 0,
      "outputs": [
        {
          "output_type": "stream",
          "text": [
            "D:\\E\\anaconda\\lib\\site-packages\\sklearn\\preprocessing\\data.py:334: DataConversionWarning: Data with input dtype int64, float64 were all converted to float64 by MinMaxScaler.\n",
            "  return self.partial_fit(X, y)\n"
          ],
          "name": "stderr"
        },
        {
          "output_type": "execute_result",
          "data": {
            "text/plain": [
              "(120000, 27)"
            ]
          },
          "metadata": {
            "tags": []
          },
          "execution_count": 14
        }
      ]
    },
    {
      "cell_type": "code",
      "metadata": {
        "colab_type": "code",
        "id": "F8Kz0CITLQKb",
        "outputId": "667bcf26-5958-4212-babf-6357ec6a2699",
        "colab": {
          "base_uri": "https://localhost:8080/",
          "height": 235
        }
      },
      "source": [
        "xscale"
      ],
      "execution_count": 0,
      "outputs": [
        {
          "output_type": "execute_result",
          "data": {
            "text/plain": [
              "array([[0.        , 0.63767922, 0.49419209, ..., 0.26685367, 0.37411451,\n",
              "        0.23967485],\n",
              "       [0.28780553, 0.4410457 , 0.6016862 , ..., 0.21975195, 0.39408551,\n",
              "        0.2328154 ],\n",
              "       [0.28780553, 0.37808232, 0.62049203, ..., 0.2844762 , 0.35567051,\n",
              "        0.21862685],\n",
              "       ...,\n",
              "       [0.        , 0.31668685, 0.59710312, ..., 0.17318527, 0.36749732,\n",
              "        0.21286253],\n",
              "       [0.22222222, 0.34397116, 0.6690157 , ..., 0.20300628, 0.37690635,\n",
              "        0.22924215],\n",
              "       [0.28780553, 0.4410457 , 0.51376166, ..., 0.2919293 , 0.38575556,\n",
              "        0.24121012]])"
            ]
          },
          "metadata": {
            "tags": []
          },
          "execution_count": 15
        }
      ]
    },
    {
      "cell_type": "code",
      "metadata": {
        "colab_type": "code",
        "id": "sFhxmu_JLnEF",
        "outputId": "2360d227-9663-40bd-9cec-12beaadc1e91",
        "colab": {
          "base_uri": "https://localhost:8080/",
          "height": 34
        }
      },
      "source": [
        "xscale.shape"
      ],
      "execution_count": 0,
      "outputs": [
        {
          "output_type": "execute_result",
          "data": {
            "text/plain": [
              "(120000, 27)"
            ]
          },
          "metadata": {
            "tags": []
          },
          "execution_count": 16
        }
      ]
    },
    {
      "cell_type": "code",
      "metadata": {
        "colab_type": "code",
        "id": "WrKIvd0qLQP7",
        "outputId": "4c6dfc1d-9372-4907-e32b-b7c78a8f11af",
        "colab": {
          "base_uri": "https://localhost:8080/",
          "height": 134
        }
      },
      "source": [
        "Ynew"
      ],
      "execution_count": 0,
      "outputs": [
        {
          "output_type": "execute_result",
          "data": {
            "text/plain": [
              "array([[5.7490935e-05],\n",
              "       [5.7490935e-05],\n",
              "       [5.7490935e-05],\n",
              "       ...,\n",
              "       [5.7490935e-05],\n",
              "       [5.7490935e-05],\n",
              "       [5.7490935e-05]], dtype=float32)"
            ]
          },
          "metadata": {
            "tags": []
          },
          "execution_count": 17
        }
      ]
    },
    {
      "cell_type": "code",
      "metadata": {
        "colab_type": "code",
        "id": "38YNdRtsLtDL",
        "outputId": "73ecedef-3264-4526-8628-b507b8e4d621",
        "colab": {
          "base_uri": "https://localhost:8080/",
          "height": 34
        }
      },
      "source": [
        "Ynew.shape"
      ],
      "execution_count": 0,
      "outputs": [
        {
          "output_type": "execute_result",
          "data": {
            "text/plain": [
              "(120000, 1)"
            ]
          },
          "metadata": {
            "tags": []
          },
          "execution_count": 18
        }
      ]
    },
    {
      "cell_type": "code",
      "metadata": {
        "colab_type": "code",
        "id": "Z-yIuGx12DZq",
        "outputId": "d9f1da70-8065-4366-9c03-1f32d31e96a8",
        "colab": {
          "base_uri": "https://localhost:8080/",
          "height": 413
        }
      },
      "source": [
        "plt.plot(Ynew)\n",
        "plt.plot(ynew)\n",
        "plt.title('model loss')\n",
        "plt.ylabel('Value')\n",
        "plt.xlabel('Data Points')\n",
        "plt.legend(['Predicted','Real'], loc='upper left')\n",
        "plt.show()\n",
        "Ynew\n"
      ],
      "execution_count": 0,
      "outputs": [
        {
          "output_type": "display_data",
          "data": {
            "image/png": "[encoded data removed]",
            "text/plain": [
              "<Figure size 432x288 with 1 Axes>"
            ]
          },
          "metadata": {
            "tags": [],
            "needs_background": "light"
          }
        },
        {
          "output_type": "execute_result",
          "data": {
            "text/plain": [
              "array([[5.7490935e-05],\n",
              "       [5.7490935e-05],\n",
              "       [5.7490935e-05],\n",
              "       ...,\n",
              "       [5.7490935e-05],\n",
              "       [5.7490935e-05],\n",
              "       [5.7490935e-05]], dtype=float32)"
            ]
          },
          "metadata": {
            "tags": []
          },
          "execution_count": 19
        }
      ]
    },
    {
      "cell_type": "markdown",
      "metadata": {
        "id": "Yqz-gSvsr4jJ",
        "colab_type": "text"
      },
      "source": [
        "# *XgBoost*"
      ]
    },
    {
      "cell_type": "code",
      "metadata": {
        "colab_type": "code",
        "id": "PEPhCB2Czyin",
        "colab": {}
      },
      "source": [
        "import xgboost as xgb\n",
        "from sklearn.metrics import accuracy_score\n"
      ],
      "execution_count": 0,
      "outputs": []
    },
    {
      "cell_type": "code",
      "metadata": {
        "colab_type": "code",
        "id": "ZUGR6hi62FxC",
        "colab": {}
      },
      "source": [
        "n_folds = 5\n",
        "\n",
        "def rmsle_cv(model):\n",
        "    rmse= numpy.sqrt(-cross_val_score(model, X, Y, scoring=\"neg_mean_squared_error\"))\n",
        "    return(rmse)"
      ],
      "execution_count": 0,
      "outputs": []
    },
    {
      "cell_type": "code",
      "metadata": {
        "colab_type": "code",
        "id": "ETlyjTdZzhxG",
        "colab": {}
      },
      "source": [
        "model_xgb = xgb.XGBRegressor(colsample_bytree=0.4603, gamma=0.0468, \n",
        "                             learning_rate=0.05, max_depth=3, \n",
        "                             min_child_weight=1.7817, n_estimators=2200,\n",
        "                             reg_alpha=0.4640, reg_lambda=0.8571,\n",
        "                             subsample=0.5213, silent=1,\n",
        "                             random_state =7, nthread = -1)\n"
      ],
      "execution_count": 0,
      "outputs": []
    },
    {
      "cell_type": "code",
      "metadata": {
        "colab_type": "code",
        "id": "_AG9EvwfzpQk",
        "outputId": "1eadda28-160b-479d-e1b1-ebdcbc04c382",
        "colab": {
          "base_uri": "https://localhost:8080/",
          "height": 205
        }
      },
      "source": [
        "score = rmsle_cv(model_xgb)\n",
        "print(\"Xgboost score: {:.4f} ({:.4f})\\n\".format(score.mean(), score.std()))\n",
        "\n",
        "y_pred = model.predict(xscale)\n",
        "predictions = [numpy.round(value) for value in y_pred]"
      ],
      "execution_count": 0,
      "outputs": [
        {
          "output_type": "stream",
          "text": [
            "D:\\E\\anaconda\\lib\\site-packages\\sklearn\\model_selection\\_split.py:2053: FutureWarning: You should specify a value for 'cv' instead of relying on the default value. The default value will change from 3 to 5 in version 0.22.\n",
            "  warnings.warn(CV_WARNING, FutureWarning)\n",
            "D:\\E\\anaconda\\lib\\site-packages\\xgboost\\core.py:587: FutureWarning: Series.base is deprecated and will be removed in a future version\n",
            "  if getattr(data, 'base', None) is not None and \\\n",
            "D:\\E\\anaconda\\lib\\site-packages\\xgboost\\core.py:587: FutureWarning: Series.base is deprecated and will be removed in a future version\n",
            "  if getattr(data, 'base', None) is not None and \\\n",
            "D:\\E\\anaconda\\lib\\site-packages\\xgboost\\core.py:587: FutureWarning: Series.base is deprecated and will be removed in a future version\n",
            "  if getattr(data, 'base', None) is not None and \\\n"
          ],
          "name": "stderr"
        },
        {
          "output_type": "stream",
          "text": [
            "Xgboost score: 0.0009 (0.0000)\n",
            "\n"
          ],
          "name": "stdout"
        }
      ]
    },
    {
      "cell_type": "code",
      "metadata": {
        "colab_type": "code",
        "id": "4VWoYmMbrPVg",
        "colab": {}
      },
      "source": [
        "import numpy as np\n",
        "import matplotlib.pyplot as plt\n",
        "import pandas as pd"
      ],
      "execution_count": 0,
      "outputs": []
    },
    {
      "cell_type": "code",
      "metadata": {
        "colab_type": "code",
        "id": "Usg8mi3rsEH2",
        "colab": {}
      },
      "source": [
        "xscale = np.reshape(xscale, (xscale.shape[0], xscale.shape[1], 1))"
      ],
      "execution_count": 0,
      "outputs": []
    },
    {
      "cell_type": "code",
      "metadata": {
        "colab_type": "code",
        "id": "_IzMwH4tsJko",
        "colab": {}
      },
      "source": [
        "from keras.models import Sequential\n",
        "from keras.layers import Dense\n",
        "from keras.layers import LSTM\n",
        "from keras.layers import Dropout\n"
      ],
      "execution_count": 0,
      "outputs": []
    },
    {
      "cell_type": "markdown",
      "metadata": {
        "id": "QBYdQbyysDsO",
        "colab_type": "text"
      },
      "source": [
        "# **LSTM Model**"
      ]
    },
    {
      "cell_type": "code",
      "metadata": {
        "colab_type": "code",
        "id": "R8K2PCHjrLIi",
        "outputId": "342cdb73-3be4-47d0-80cb-743ce23141fb",
        "colab": {
          "base_uri": "https://localhost:8080/",
          "height": 87
        }
      },
      "source": [
        "regressor = Sequential()\n",
        "\n",
        "regressor.add(LSTM(units = 10, return_sequences = True, input_shape = (xscale.shape[1], 1)))\n",
        "regressor.add(Dropout(0.025))\n",
        "\n",
        "regressor.add(LSTM(units = 10, return_sequences = True))\n",
        "regressor.add(Dropout(0.025))\n",
        "\n",
        "regressor.add(LSTM(units = 10, return_sequences = True))\n",
        "regressor.add(Dropout(0.025))\n",
        "\n",
        "regressor.add(LSTM(units = 10))\n",
        "regressor.add(Dropout(0.025))\n",
        "\n",
        "regressor.add(Dense(units = 1))\n"
      ],
      "execution_count": 0,
      "outputs": [
        {
          "output_type": "stream",
          "text": [
            "WARNING:tensorflow:From D:\\E\\anaconda\\lib\\site-packages\\keras\\backend\\tensorflow_backend.py:3445: calling dropout (from tensorflow.python.ops.nn_ops) with keep_prob is deprecated and will be removed in a future version.\n",
            "Instructions for updating:\n",
            "Please use `rate` instead of `keep_prob`. Rate should be set to `rate = 1 - keep_prob`.\n"
          ],
          "name": "stdout"
        }
      ]
    },
    {
      "cell_type": "code",
      "metadata": {
        "colab_type": "code",
        "id": "zX3OvJ8H_m1P",
        "colab": {}
      },
      "source": [
        "regressor.compile(optimizer = 'adam', loss = 'mean_squared_error' ,metrics = ['accuracy'])"
      ],
      "execution_count": 0,
      "outputs": []
    },
    {
      "cell_type": "code",
      "metadata": {
        "colab_type": "code",
        "id": "X32Xik9Trhwe",
        "outputId": "f05a3a42-45fb-4013-db5f-56a774afc2f0",
        "colab": {
          "base_uri": "https://localhost:8080/",
          "height": 3377
        }
      },
      "source": [
        "regressor.fit(xscale, ynew, epochs = 100, batch_size = 16)\n",
        "xscale= np.reshape(xscale, (xscale.shape[0], xscale.shape[1], 1))\n",
        "predicted_stock_price = regressor.predict(xscale)\n"
      ],
      "execution_count": 0,
      "outputs": [
        {
          "output_type": "stream",
          "text": [
            "Epoch 1/100\n",
            " 78432/120000 [==================>...........] - ETA: 2:42 - loss: 1.3156e-06 - acc: 0.0058"
          ],
          "name": "stdout"
        }
      ]
    },
    {
      "cell_type": "code",
      "metadata": {
        "colab_type": "code",
        "id": "WE2BofHdsIf_",
        "colab": {}
      },
      "source": [
        "plt.plot(predicted_stock_price)\n",
        "plt.plot(ynew)\n",
        "plt.title('model loss')\n",
        "plt.ylabel('Value')\n",
        "plt.xlabel('Data Points')\n",
        "plt.legend(['Predicted','Real'], loc='upper left')\n",
        "plt.show()\n",
        "\n",
        "predicted_stock_price\n"
      ],
      "execution_count": 0,
      "outputs": []
    },
    {
      "cell_type": "code",
      "metadata": {
        "colab_type": "code",
        "id": "cPAJVPDrAa7b",
        "colab": {}
      },
      "source": [
        "dataset.shape"
      ],
      "execution_count": 0,
      "outputs": []
    },
    {
      "cell_type": "markdown",
      "metadata": {
        "id": "uXYLCG1kt0Xm",
        "colab_type": "text"
      },
      "source": [
        "***Changing Relative Datapoints***"
      ]
    },
    {
      "cell_type": "code",
      "metadata": {
        "colab_type": "code",
        "id": "h-OaAsLrA4IQ",
        "colab": {}
      },
      "source": [
        "cols = dataset.columns\n",
        "index = cols[27:205]\n",
        "index"
      ],
      "execution_count": 0,
      "outputs": []
    },
    {
      "cell_type": "code",
      "metadata": {
        "colab_type": "code",
        "id": "R5EvPPtXA6CM",
        "colab": {}
      },
      "source": [
        "\n",
        "returns = cols[28:206]\n",
        "\n",
        "returns"
      ],
      "execution_count": 0,
      "outputs": []
    },
    {
      "cell_type": "code",
      "metadata": {
        "colab_type": "code",
        "id": "8KlvoF5A7I_M",
        "colab": {}
      },
      "source": [
        "for i in range(118):\n",
        "  dataset[returns[i]] = dataset[returns[i]] +dataset[index[i]]"
      ],
      "execution_count": 0,
      "outputs": []
    },
    {
      "cell_type": "code",
      "metadata": {
        "colab_type": "code",
        "id": "ZTlxOasY7JmS",
        "colab": {}
      },
      "source": [
        "dataset.head()"
      ],
      "execution_count": 0,
      "outputs": []
    },
    {
      "cell_type": "code",
      "metadata": {
        "colab_type": "code",
        "id": "5E_l3pN47LaC",
        "colab": {}
      },
      "source": [
        ""
      ],
      "execution_count": 0,
      "outputs": []
    },
    {
      "cell_type": "code",
      "metadata": {
        "colab_type": "code",
        "id": "4PkxqvK4HrJH",
        "colab": {}
      },
      "source": [
        "xscale = np.reshape(xscale, (xscale.shape[0], xscale.shape[1], 1))"
      ],
      "execution_count": 0,
      "outputs": []
    },
    {
      "cell_type": "code",
      "metadata": {
        "colab_type": "code",
        "id": "hXSh3uQgHrJM",
        "colab": {}
      },
      "source": [
        "from keras.models import Sequential\n",
        "from keras.layers import Dense\n",
        "from keras.layers import LSTM\n",
        "from keras.layers import Dropout\n"
      ],
      "execution_count": 0,
      "outputs": []
    },
    {
      "cell_type": "markdown",
      "metadata": {
        "id": "FZLBij31uPH7",
        "colab_type": "text"
      },
      "source": [
        "# **LSTM** *After Changing Relative Datapoints*"
      ]
    },
    {
      "cell_type": "code",
      "metadata": {
        "colab_type": "code",
        "id": "6Spx9D9pHrJO",
        "colab": {}
      },
      "source": [
        "regressor = Sequential()\n",
        "\n",
        "regressor.add(LSTM(units = 10, return_sequences = True, input_shape = (xscale.shape[1], 1)))\n",
        "regressor.add(Dropout(0.025))\n",
        "\n",
        "regressor.add(LSTM(units = 10, return_sequences = True))\n",
        "regressor.add(Dropout(0.025))\n",
        "\n",
        "regressor.add(LSTM(units = 10, return_sequences = True))\n",
        "regressor.add(Dropout(0.025))\n",
        "\n",
        "regressor.add(LSTM(units = 10))\n",
        "regressor.add(Dropout(0.025))\n",
        "\n",
        "regressor.add(Dense(units = 1))\n"
      ],
      "execution_count": 0,
      "outputs": []
    },
    {
      "cell_type": "code",
      "metadata": {
        "colab_type": "code",
        "id": "GTjZenkeHrJS",
        "colab": {}
      },
      "source": [
        "regressor.compile(optimizer = 'adam', loss = 'mean_squared_error' ,metrics = ['accuracy'])"
      ],
      "execution_count": 0,
      "outputs": []
    },
    {
      "cell_type": "code",
      "metadata": {
        "colab_type": "code",
        "id": "U55A1BkqHrJU",
        "colab": {}
      },
      "source": [
        "regressor.fit(xscale,ynew, epochs = 100, batch_size = 16)\n",
        "xscale = np.reshape(xscale, (xscale.shape[0], xscale.shape[1], 1))\n",
        "predicted_stock_price1 = regressor.predict(xscale)\n"
      ],
      "execution_count": 0,
      "outputs": []
    },
    {
      "cell_type": "code",
      "metadata": {
        "colab_type": "code",
        "id": "FDB1DeR9HrJW",
        "colab": {}
      },
      "source": [
        "plt.plot(predicted_stock_price1)\n",
        "plt.plot(ynew)\n",
        "plt.title('model loss')\n",
        "plt.ylabel('Value')\n",
        "plt.xlabel('Data Points')\n",
        "plt.legend(['Predicted','Real'], loc='upper left')\n",
        "plt.show()\n",
        "\n",
        "predicted_stock_price1\n"
      ],
      "execution_count": 0,
      "outputs": []
    },
    {
      "cell_type": "markdown",
      "metadata": {
        "id": "NQP1jVU4up26",
        "colab_type": "text"
      },
      "source": [
        "**Collecting** **Data**"
      ]
    },
    {
      "cell_type": "code",
      "metadata": {
        "colab_type": "code",
        "id": "OBhHc9yTISnE",
        "colab": {}
      },
      "source": [
        "rows = zip(ynew,Ynew,predicted_stock_price,predicted_stock_price1 )\n",
        "import csv\n",
        "\n",
        "with open('new3.csv', \"w\") as f:\n",
        "    writer = csv.writer(f)\n",
        "    writer.writerow((\"Actual Value\", \"Sequential Predicted Value\", \"LSTM Predicted Value\", \"Relative LSTM Predicted Value\"))\n",
        "    for row in rows:\n",
        "      writer.writerow(row)"
      ],
      "execution_count": 0,
      "outputs": []
    },
    {
      "cell_type": "code",
      "metadata": {
        "colab_type": "code",
        "id": "IDDNw0fxK9EM",
        "colab": {}
      },
      "source": [
        "dataset3 = pd.read_csv('new3.csv')\n",
        "dataset3"
      ],
      "execution_count": 0,
      "outputs": []
    },
    {
      "cell_type": "code",
      "metadata": {
        "colab_type": "code",
        "id": "-Bw0HSzgLp4A",
        "colab": {}
      },
      "source": [
        ""
      ],
      "execution_count": 0,
      "outputs": []
    },
    {
      "cell_type": "code",
      "metadata": {
        "id": "_gwY7DRFq_ya",
        "colab_type": "code",
        "colab": {}
      },
      "source": [
        ""
      ],
      "execution_count": 0,
      "outputs": []
    },
    {
      "cell_type": "code",
      "metadata": {
        "id": "3FNsokIkq_yb",
        "colab_type": "code",
        "colab": {}
      },
      "source": [
        ""
      ],
      "execution_count": 0,
      "outputs": []
    },
    {
      "cell_type": "code",
      "metadata": {
        "id": "M12JpN-0q_yf",
        "colab_type": "code",
        "colab": {}
      },
      "source": [
        ""
      ],
      "execution_count": 0,
      "outputs": []
    }
  ]
}